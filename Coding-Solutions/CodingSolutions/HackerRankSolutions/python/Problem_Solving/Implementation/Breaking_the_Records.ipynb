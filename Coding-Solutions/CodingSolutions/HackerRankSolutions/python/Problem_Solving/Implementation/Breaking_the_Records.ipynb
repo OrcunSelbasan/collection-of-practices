{
 "cells": [
  {
   "cell_type": "code",
   "execution_count": null,
   "metadata": {},
   "outputs": [],
   "source": [
    "#!/bin/python3\n",
    "\n",
    "import math\n",
    "import os\n",
    "import random\n",
    "import re\n",
    "import sys\n",
    "\n",
    "\n",
    "def breakingRecords(scores):\n",
    "    best = scores[0]\n",
    "    worst = scores[0]\n",
    "    count_best = 0\n",
    "    count_worst = 0\n",
    "    \n",
    "    for i in scores:\n",
    "        if i>best:\n",
    "            best = i\n",
    "            count_best+=1\n",
    "        elif i<worst:\n",
    "            worst = i\n",
    "            count_worst+=1\n",
    "    return count_best,count_worst\n",
    "            \n",
    "\n",
    "if __name__ == '__main__':\n",
    "    fptr = open(os.environ['OUTPUT_PATH'], 'w')\n",
    "\n",
    "    n = int(input().strip())\n",
    "\n",
    "    scores = list(map(int, input().rstrip().split()))\n",
    "\n",
    "    result = breakingRecords(scores)\n",
    "\n",
    "    fptr.write(' '.join(map(str, result)))\n",
    "    fptr.write('\\n')\n",
    "\n",
    "    fptr.close()"
   ]
  }
 ],
 "metadata": {
  "kernelspec": {
   "display_name": "Python 3",
   "language": "python",
   "name": "python3"
  },
  "language_info": {
   "codemirror_mode": {
    "name": "ipython",
    "version": 3
   },
   "file_extension": ".py",
   "mimetype": "text/x-python",
   "name": "python",
   "nbconvert_exporter": "python",
   "pygments_lexer": "ipython3",
   "version": "3.7.6"
  }
 },
 "nbformat": 4,
 "nbformat_minor": 4
}
