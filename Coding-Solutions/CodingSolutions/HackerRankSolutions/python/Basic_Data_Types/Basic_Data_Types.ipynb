{
 "cells": [
  {
   "cell_type": "markdown",
   "metadata": {},
   "source": [
    "# List Comprehensions"
   ]
  },
  {
   "cell_type": "code",
   "execution_count": null,
   "metadata": {},
   "outputs": [],
   "source": [
    "if __name__ == '__main__':\n",
    "    x = int(input())\n",
    "    y = int(input())\n",
    "    z = int(input())\n",
    "    n = int(input())\n",
    "    raw_list=[]\n",
    "    res_list=[]\n",
    "    for x in range(x+1):\n",
    "        for y in range(y+1):\n",
    "            for z in range(z+1):\n",
    "                raw_list.append([x,y,z])\n",
    "            \n",
    "    for l in raw_list:\n",
    "        if sum(l)!=n:\n",
    "            res_list.append(l)\n",
    "            \n",
    "    print(res_list)"
   ]
  },
  {
   "cell_type": "markdown",
   "metadata": {},
   "source": [
    "# Find the Runner-Up Score!"
   ]
  },
  {
   "cell_type": "code",
   "execution_count": null,
   "metadata": {},
   "outputs": [],
   "source": [
    "if __name__ == '__main__':\n",
    "    n = int(input())\n",
    "    arr = map(int, input().split())\n",
    "    print(sorted(list(set(list(arr))))[-2])"
   ]
  },
  {
   "cell_type": "markdown",
   "metadata": {},
   "source": [
    "# Finding the percentage"
   ]
  },
  {
   "cell_type": "code",
   "execution_count": null,
   "metadata": {},
   "outputs": [],
   "source": [
    "from decimal import Decimal\n",
    "if __name__ == '__main__':\n",
    "    n = int(input())\n",
    "    student_marks = {}\n",
    "    for _ in range(n):\n",
    "        name, *line = input().split()\n",
    "        scores = list(map(float, line))\n",
    "        student_marks[name] = scores\n",
    "    query_name = input()\n",
    "    results = student_marks.get(query_name)\n",
    "    avg=Decimal(sum(list(results))/3)\n",
    "    print(round(avg,2))"
   ]
  },
  {
   "cell_type": "markdown",
   "metadata": {},
   "source": [
    "# Lists"
   ]
  },
  {
   "cell_type": "code",
   "execution_count": null,
   "metadata": {},
   "outputs": [],
   "source": [
    "if __name__ == '__main__':\n",
    "    \n",
    "    N = int(input())\n",
    "    l = []\n",
    "    for c in range(N):\n",
    "        command = input().split()\n",
    "        cmd = command[0]\n",
    "        args = command[1:]\n",
    "        if cmd==\"insert\":\n",
    "            cmd+=\"(\"+\",\".join(args)+\")\"\n",
    "            eval(\"l.\"+cmd)\n",
    "        elif cmd==\"print\":\n",
    "            print(l)\n",
    "        elif cmd==\"remove\":\n",
    "            cmd+=\"(\"+\",\".join(args)+\")\"\n",
    "            eval(\"l.\"+cmd)\n",
    "        elif cmd==\"append\":\n",
    "            cmd+=\"(\"+\",\".join(args)+\")\"\n",
    "            eval(\"l.\"+cmd)\n",
    "        elif cmd==\"sort\":\n",
    "            l.sort()\n",
    "        elif cmd==\"pop\":\n",
    "            l.pop()\n",
    "        elif cmd==\"reverse\":\n",
    "            l.reverse()\n",
    "       \n",
    "    \"\"\"\n",
    "    n = int(input())\n",
    "    l = []\n",
    "    for c in range(n):\n",
    "        s = input().split()\n",
    "        cmd = s[0]\n",
    "        args = s[1:]\n",
    "        if cmd !=\"print\":\n",
    "            cmd += \"(\"+ \",\".join(args) +\")\"\n",
    "            eval(\"l.\"+cmd)\n",
    "        else:\n",
    "            print(l)\n",
    "            \"\"\""
   ]
  },
  {
   "cell_type": "markdown",
   "metadata": {},
   "source": [
    "# Tuples"
   ]
  },
  {
   "cell_type": "code",
   "execution_count": null,
   "metadata": {},
   "outputs": [],
   "source": [
    "if __name__ == '__main__':\n",
    "    n = int(input())\n",
    "    integer_list = map(int, input().split())\n",
    "    print(hash(tuple(integer_list)))"
   ]
  },
  {
   "cell_type": "markdown",
   "metadata": {},
   "source": [
    "# Nested Lists"
   ]
  },
  {
   "cell_type": "code",
   "execution_count": null,
   "metadata": {},
   "outputs": [],
   "source": [
    "if __name__ == '__main__':\n",
    "    pair=[]\n",
    "    names=[]\n",
    "    scores=[]\n",
    "    for _ in range(int(input())):\n",
    "        name = input()\n",
    "        score = float(input())\n",
    "        \n",
    "        scores.append(score)\n",
    "        pair.append([score,name])  \n",
    "    check = sorted(list(set(scores)))\n",
    "    for p in pair:\n",
    "        if p[0]==check[0]:\n",
    "            pair.remove(p)\n",
    "     \n",
    "    for p in pair:\n",
    "        if p[0]==check[1]:\n",
    "            names.append(p[1])\n",
    "    for n in sorted(names):\n",
    "        print(n)"
   ]
  }
 ],
 "metadata": {
  "kernelspec": {
   "display_name": "Python 3",
   "language": "python",
   "name": "python3"
  },
  "language_info": {
   "codemirror_mode": {
    "name": "ipython",
    "version": 3
   },
   "file_extension": ".py",
   "mimetype": "text/x-python",
   "name": "python",
   "nbconvert_exporter": "python",
   "pygments_lexer": "ipython3",
   "version": "3.7.6"
  }
 },
 "nbformat": 4,
 "nbformat_minor": 4
}
