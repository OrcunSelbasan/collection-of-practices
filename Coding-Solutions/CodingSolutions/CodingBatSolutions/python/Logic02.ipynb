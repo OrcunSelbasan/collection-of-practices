{
 "cells": [
  {
   "cell_type": "code",
   "execution_count": null,
   "metadata": {},
   "outputs": [],
   "source": [
    "def make_bricks(small, big, goal):\n",
    "    bigger = big*5\n",
    "    return (bigger+small>=goal) and (goal%5<=small)"
   ]
  },
  {
   "cell_type": "code",
   "execution_count": null,
   "metadata": {},
   "outputs": [],
   "source": [
    "def lone_sum(a,b,c):\n",
    "    if a==b==c:\n",
    "        return 0\n",
    "    elif a==c:\n",
    "        return b\n",
    "    elif b==c:\n",
    "        return a\n",
    "    elif a==b:\n",
    "        return c\n",
    "    else:\n",
    "        return a+b+c    "
   ]
  },
  {
   "cell_type": "code",
   "execution_count": null,
   "metadata": {},
   "outputs": [],
   "source": [
    "def lucky_sum(a,b,c):\n",
    "    in_list = [a,b,c]\n",
    "    if 13 in in_list:\n",
    "        return sum(in_list[:in_list.index(13)])\n",
    "    else:\n",
    "        return a+b+c"
   ]
  },
  {
   "cell_type": "code",
   "execution_count": null,
   "metadata": {},
   "outputs": [],
   "source": [
    "def no_teen_sum(a,b,c):\n",
    "    in_list=[a,b,c]\n",
    "    count=0\n",
    "    for i in in_list:\n",
    "        res=fix_teen(i)\n",
    "        count+=res\n",
    "    return count\n",
    "def fix_teen(n):\n",
    "    if (n>=13 and n<=19):\n",
    "        if n==15 or n==16:\n",
    "            return n\n",
    "        else:\n",
    "            return 0\n",
    "    else:\n",
    "        return n"
   ]
  },
  {
   "cell_type": "code",
   "execution_count": null,
   "metadata": {},
   "outputs": [],
   "source": [
    "def round_sum(a,b,c):\n",
    "    in_list=[a,b,c]\n",
    "    result = 0\n",
    "    for i in in_list:\n",
    "        if (i/5)%2==1:\n",
    "            result+=(1+(i/5))*5\n",
    "        elif (i/5)%2==0:\n",
    "            result+=(i/5)*5\n",
    "    return result"
   ]
  },
  {
   "cell_type": "code",
   "execution_count": null,
   "metadata": {},
   "outputs": [],
   "source": [
    "def close_far(a,b,c):\n",
    "    in_list=[a,b,c]\n",
    "    if ((a+b+c)/3) in in_list:\n",
    "        return False\n",
    "    elif abs(b-a)<=1 and abs(b-c)>=2 and abs(c-a)>=2:\n",
    "        return True\n",
    "    elif abs(c-a)<=1 and abs(c-b)>=2 and abs(a-b)>=2:\n",
    "        return True\n",
    "    else:\n",
    "        return False"
   ]
  },
  {
   "cell_type": "code",
   "execution_count": null,
   "metadata": {},
   "outputs": [],
   "source": [
    "## Original source:\n",
    "\n",
    "## https://github.com/mirandaio/codingbat/blob/master/python/logic-2/make_chocolate.py\n",
    "\n",
    "def make_chocolate(small, big, goal):\n",
    "    bigger=big*5\n",
    "    if goal>=bigger:\n",
    "        remainder= goal-5*big\n",
    "    else:\n",
    "        remainder= goal%5\n",
    "    \n",
    "    if remainder <= small:\n",
    "        return remainder\n",
    "    \n",
    "    return -1"
   ]
  }
 ],
 "metadata": {
  "kernelspec": {
   "display_name": "Python 3",
   "language": "python",
   "name": "python3"
  },
  "language_info": {
   "codemirror_mode": {
    "name": "ipython",
    "version": 3
   },
   "file_extension": ".py",
   "mimetype": "text/x-python",
   "name": "python",
   "nbconvert_exporter": "python",
   "pygments_lexer": "ipython3",
   "version": "3.7.6"
  }
 },
 "nbformat": 4,
 "nbformat_minor": 4
}
