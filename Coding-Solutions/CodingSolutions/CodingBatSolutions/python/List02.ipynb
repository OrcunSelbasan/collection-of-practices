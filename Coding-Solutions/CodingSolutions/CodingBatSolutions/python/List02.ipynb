{
 "cells": [
  {
   "cell_type": "code",
   "execution_count": null,
   "metadata": {},
   "outputs": [],
   "source": [
    "def count_evens(nums):\n",
    "    count=0\n",
    "    for i in nums:\n",
    "        if i%2==0:\n",
    "            count= count +1\n",
    "    return count"
   ]
  },
  {
   "cell_type": "code",
   "execution_count": null,
   "metadata": {},
   "outputs": [],
   "source": [
    "def big_diff(nums):\n",
    "    return max(nums)-min(nums)"
   ]
  },
  {
   "cell_type": "code",
   "execution_count": null,
   "metadata": {},
   "outputs": [],
   "source": [
    "def centered_average(nums):\n",
    "    nums.remove(max(nums))\n",
    "    nums.remove(min(nums))\n",
    "    return sum(nums)/len(nums)"
   ]
  },
  {
   "cell_type": "code",
   "execution_count": null,
   "metadata": {},
   "outputs": [],
   "source": [
    "def sum13(nums):\n",
    "    sub_list=[nums.count(13)*13]\n",
    "    for i in range(len(nums)):\n",
    "        if nums[i]==13 and i!=len(nums)-1:\n",
    "            sub_list.append(nums[i+1])\n",
    "    if sum(nums)-sum(sub_list)>=0:\n",
    "        return sum(nums)-sum(sub_list)\n",
    "    else:\n",
    "        return 0"
   ]
  },
  {
   "cell_type": "code",
   "execution_count": null,
   "metadata": {},
   "outputs": [],
   "source": [
    "def sum67(nums):\n",
    "    out=[]\n",
    "    run=True\n",
    "    for i in range(len(nums)):\n",
    "        if nums[i]==6:\n",
    "            while run:\n",
    "                out.append(nums[i])\n",
    "                i+=1\n",
    "                if nums[i]==6: #if 6 occur between 6,...,7(ex. 6,2,6,5,7) then while loop will start againg with next 6\n",
    "                    break     #first append=[6,2]  [6,5,7]= second append\n",
    "                elif nums[i]==7:\n",
    "                    out.append(nums[i])\n",
    "                    break\n",
    "       \n",
    "    if sum(nums)-sum(out) >=0:\n",
    "        return sum(nums)-sum(out)\n",
    "    else:\n",
    "        return 0"
   ]
  },
  {
   "cell_type": "code",
   "execution_count": null,
   "metadata": {},
   "outputs": [],
   "source": [
    "def has22(nums):\n",
    "    boolean= False\n",
    "    if len(nums)<2:\n",
    "        return False\n",
    "    elif len(nums)==2:\n",
    "        if nums[0]==nums[1]==2:\n",
    "            return True\n",
    "        else:\n",
    "            return False\n",
    "    else:\n",
    "        for i in range(len(nums)):\n",
    "            if nums[i]==2:\n",
    "                if i!=0 and nums[i]==nums[i-1]:\n",
    "                    boolean=True\n",
    "                elif i!=len(nums)-1 and nums[i]==nums[i+1]:\n",
    "                    boolean=True\n",
    "                else:\n",
    "                    continue\n",
    "        return boolean"
   ]
  }
 ],
 "metadata": {
  "kernelspec": {
   "display_name": "Python 3",
   "language": "python",
   "name": "python3"
  },
  "language_info": {
   "codemirror_mode": {
    "name": "ipython",
    "version": 3
   },
   "file_extension": ".py",
   "mimetype": "text/x-python",
   "name": "python",
   "nbconvert_exporter": "python",
   "pygments_lexer": "ipython3",
   "version": "3.7.6"
  }
 },
 "nbformat": 4,
 "nbformat_minor": 4
}
