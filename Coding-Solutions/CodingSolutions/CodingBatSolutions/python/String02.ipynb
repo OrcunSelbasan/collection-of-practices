{
 "cells": [
  {
   "cell_type": "code",
   "execution_count": null,
   "metadata": {},
   "outputs": [],
   "source": [
    "def double_char(string):\n",
    "    res = ''\n",
    "    for w in string:\n",
    "        res+= w*2\n",
    "    return res"
   ]
  },
  {
   "cell_type": "code",
   "execution_count": null,
   "metadata": {},
   "outputs": [],
   "source": [
    "def count_hi(string):\n",
    "    count = 0\n",
    "    str_split = string.split(\" \")\n",
    "    for w in str_split:\n",
    "        count+=w.count(\"hi\")\n",
    "    return count"
   ]
  },
  {
   "cell_type": "code",
   "execution_count": null,
   "metadata": {},
   "outputs": [],
   "source": [
    "def cat_dog(string):\n",
    "    if string.count(\"cat\")==string.count(\"dog\"):\n",
    "        return True\n",
    "    else: \n",
    "        return False"
   ]
  },
  {
   "cell_type": "code",
   "execution_count": null,
   "metadata": {},
   "outputs": [],
   "source": [
    "import re\n",
    "def count_code(string):\n",
    "    all_occurances = re.findall(\"co.e\",string)\n",
    "    return len(all_occurances)"
   ]
  },
  {
   "cell_type": "code",
   "execution_count": null,
   "metadata": {},
   "outputs": [],
   "source": [
    "def end_other(a,b):\n",
    "    if a.lower().endswith(b.lower()) or b.lower().endswith(a.lower()):\n",
    "        return True\n",
    "    else:\n",
    "        return False"
   ]
  },
  {
   "cell_type": "code",
   "execution_count": null,
   "metadata": {},
   "outputs": [],
   "source": [
    "def xyz_there(string):\n",
    "    true_when = string.count(\"xyz\")\n",
    "    false_when = string.count(\".xyz\")  \n",
    "    if true_when>false_when:\n",
    "        return True\n",
    "    elif false_when==1:\n",
    "        return False\n",
    "    else:\n",
    "        return False"
   ]
  }
 ],
 "metadata": {
  "kernelspec": {
   "display_name": "Python 3",
   "language": "python",
   "name": "python3"
  },
  "language_info": {
   "codemirror_mode": {
    "name": "ipython",
    "version": 3
   },
   "file_extension": ".py",
   "mimetype": "text/x-python",
   "name": "python",
   "nbconvert_exporter": "python",
   "pygments_lexer": "ipython3",
   "version": "3.7.6"
  }
 },
 "nbformat": 4,
 "nbformat_minor": 4
}
