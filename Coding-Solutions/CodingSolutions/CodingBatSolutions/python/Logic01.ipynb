{
 "cells": [
  {
   "cell_type": "code",
   "execution_count": 1,
   "metadata": {},
   "outputs": [],
   "source": [
    "def cigar_party(cigars, is_weekend):\n",
    "    if 40<=cigars and is_weekend:\n",
    "        return True\n",
    "    elif 40<=cigars<=60 and not is_weekend:\n",
    "        return True\n",
    "    else:\n",
    "        return False"
   ]
  },
  {
   "cell_type": "code",
   "execution_count": 2,
   "metadata": {},
   "outputs": [],
   "source": [
    "def date_fashion(you,date):\n",
    "    you in range(11)\n",
    "    date in range(11)\n",
    "    \n",
    "    if you<=2 or date<=2:\n",
    "        return 0\n",
    "    elif you>=8 or date>=8:\n",
    "        return 2\n",
    "    else:\n",
    "        return 1"
   ]
  },
  {
   "cell_type": "code",
   "execution_count": 9,
   "metadata": {},
   "outputs": [],
   "source": [
    "def squirrel_play(temp, is_summer):\n",
    "    if is_summer==True and 60<=temp<=100:\n",
    "        return True\n",
    "    elif is_summer==False and 60<=temp<=90:\n",
    "        return True\n",
    "    else:\n",
    "        return False"
   ]
  },
  {
   "cell_type": "code",
   "execution_count": 3,
   "metadata": {},
   "outputs": [],
   "source": [
    "def caught_speeding(speed,is_birthday):\n",
    "    if is_birthday == True:\n",
    "        if 66<=speed<=85:\n",
    "            return 1\n",
    "        elif 86<=speed:\n",
    "            return 2\n",
    "        else:\n",
    "            return 0\n",
    "    elif is_birthday == False:\n",
    "        if 61<=speed<=80:\n",
    "            return 1\n",
    "        elif 81<=speed:\n",
    "            return 2\n",
    "        else:\n",
    "            return 0\n",
    "    else:\n",
    "        pass"
   ]
  },
  {
   "cell_type": "code",
   "execution_count": 4,
   "metadata": {},
   "outputs": [],
   "source": [
    "def sorta_sum(a,b):\n",
    "    \n",
    "    if 10<=a+b<=19:\n",
    "        return 20\n",
    "    else:\n",
    "        return a+b"
   ]
  },
  {
   "cell_type": "code",
   "execution_count": 5,
   "metadata": {},
   "outputs": [],
   "source": [
    "def alarm_clock(day,vacation):\n",
    "    if vacation==True:\n",
    "        if 1<=day<=5:\n",
    "            return \"10:00\"\n",
    "        else:\n",
    "            return \"off\"\n",
    "    else:\n",
    "        if 1<=day<=5:\n",
    "            return \"7:00\"\n",
    "        else:\n",
    "            return \"10:00\""
   ]
  },
  {
   "cell_type": "code",
   "execution_count": 6,
   "metadata": {},
   "outputs": [],
   "source": [
    "def love6(a,b):\n",
    "    if a==6 or b==6 or a+b==6 or a-b==6 or b-a==6:\n",
    "        return True\n",
    "    else:\n",
    "        return False"
   ]
  },
  {
   "cell_type": "code",
   "execution_count": 7,
   "metadata": {},
   "outputs": [],
   "source": [
    "def in1to10(n,outside_mode):\n",
    "    if n in range(1,11) and outside_mode==False:\n",
    "        return True\n",
    "    elif n<=1 and outside_mode == True:\n",
    "        return True\n",
    "    elif 10<=n and outside_mode == True:\n",
    "        return  True\n",
    "    else:\n",
    "        return False"
   ]
  },
  {
   "cell_type": "code",
   "execution_count": 8,
   "metadata": {},
   "outputs": [],
   "source": [
    "def near_ten(num):\n",
    "    if num%10<=2 or num%10>=8:\n",
    "        return True\n",
    "    else:\n",
    "        return False"
   ]
  }
 ],
 "metadata": {
  "kernelspec": {
   "display_name": "Python 3",
   "language": "python",
   "name": "python3"
  },
  "language_info": {
   "codemirror_mode": {
    "name": "ipython",
    "version": 3
   },
   "file_extension": ".py",
   "mimetype": "text/x-python",
   "name": "python",
   "nbconvert_exporter": "python",
   "pygments_lexer": "ipython3",
   "version": "3.7.6"
  }
 },
 "nbformat": 4,
 "nbformat_minor": 4
}
